{
  "cells": [
    {
      "cell_type": "code",
      "execution_count": null,
      "metadata": {
        "id": "VjYy0F2gZIPR"
      },
      "outputs": [],
      "source": [
        "!pip install pygit2==1.15.1\n",
        "%cd /content\n",
        "!git clone https://github.com/lllyasviel/Fooocus.git\n",
        "%cd /content/Fooocus\n",
        "!python entry_with_update.py --share --always-high-vram\n"
      ]
    },
    {
      "cell_type": "code",
      "source": [
        "!python backend.py \\\n",
        "  --prompt \"a serene landscape with mountains\" \\\n",
        "  --negative_prompt lowres \\\n",
        "  --seed 42 \\\n",
        "  --base_model sd-v1.5.ckpt \\\n",
        "  --steps 30 \\\n",
        "  --cfg_scale 7.5 \\\n",
        "  --width 512 \\\n",
        "  --height 512 \\\n",
        "  --n_images 2"
      ],
      "metadata": {
        "colab": {
          "base_uri": "https://localhost:8080/"
        },
        "id": "mpSfnYBUxTxC",
        "outputId": "d3e28c2a-cd3e-4a5d-e6c7-9798c87dd873"
      },
      "execution_count": 19,
      "outputs": [
        {
          "output_type": "stream",
          "name": "stdout",
          "text": [
            "Load preset [/content/Fooocus/presets/initial.json] failed\n",
            "\n",
            "Overriding config value path_outputs with outputs\n",
            "Traceback (most recent call last):\n",
            "  File \"/content/Fooocus/backend.py\", line 46, in <module>\n",
            "    from modules import config, flags\n",
            "  File \"/content/Fooocus/modules/config.py\", line 256, in <module>\n",
            "    temp_path = init_temp_path(get_config_item_or_set_default(\n",
            "                ^^^^^^^^^^^^^^^^^^^^^^^^^^^^^^^^^^^^^^^^^^^^^^\n",
            "  File \"/content/Fooocus/modules/config.py\", line 237, in init_temp_path\n",
            "    if args_manager.args.temp_path:\n",
            "       ^^^^^^^^^^^^^^^^^^^^^^^^^^^\n",
            "AttributeError: 'types.SimpleNamespace' object has no attribute 'temp_path'\n"
          ]
        }
      ]
    }
  ],
  "metadata": {
    "accelerator": "GPU",
    "colab": {
      "gpuType": "T4",
      "provenance": []
    },
    "kernelspec": {
      "display_name": "Python 3",
      "name": "python3"
    },
    "language_info": {
      "name": "python"
    }
  },
  "nbformat": 4,
  "nbformat_minor": 0
}