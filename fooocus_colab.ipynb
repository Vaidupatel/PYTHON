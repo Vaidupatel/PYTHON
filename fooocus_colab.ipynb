{
  "cells": [
    {
      "cell_type": "code",
      "execution_count": null,
      "metadata": {
        "id": "VjYy0F2gZIPR"
      },
      "outputs": [],
      "source": [
        "!pip install pygit2==1.15.1\n",
        "%cd /content\n",
        "!git clone https://github.com/lllyasviel/Fooocus.git\n",
        "%cd /content/Fooocus\n",
        "!python entry_with_update.py --share --always-high-vram\n"
      ]
    },
    {
      "cell_type": "code",
      "source": [
        "!python backend.py \\\n",
        "  --prompt \"a serene landscape with mountains\" \\\n",
        "  --negative_prompt \"lowres\" \\\n",
        "  --seed 42 \\\n",
        "  --base_model sd-v1.5.ckpt \\\n",
        "  --steps 30 \\\n",
        "  --cfg_scale 7.5 \\\n",
        "  --width 512 \\\n",
        "  --height 512 \\\n",
        "  --n_images 2\n"
      ],
      "metadata": {
        "colab": {
          "base_uri": "https://localhost:8080/"
        },
        "id": "mpSfnYBUxTxC",
        "outputId": "d07d9687-e89a-4807-ca2a-7867f7a898a0"
      },
      "execution_count": 15,
      "outputs": [
        {
          "output_type": "stream",
          "name": "stdout",
          "text": [
            "Load preset [/content/Fooocus/presets/initial.json] failed\n",
            "\n",
            "Overriding config value path_outputs with outputs\n",
            "Using temp path /content/Fooocus/temp\n",
            "Total VRAM 15095 MB, total RAM 12978 MB\n",
            "Set vram state to: NORMAL_VRAM\n",
            "Device: cuda:0 Tesla T4 : native\n",
            "VAE dtype: torch.float32\n",
            "Generating with parameters: {'prompt': 'a serene landscape with mountains', 'negative_prompt': 'lowres', 'seed': 42, 'steps': 30, 'cfg_scale': 7.5, 'width': 512, 'height': 512, 'n_images': 2, 'base_model': 'sd-v1.5.ckpt', 'refiner_model': None, 'vae': None, 'loras': [], 'controlnets': [], 'output_path': 'outputs', 'temp_path': 'temp', 'preset': 'initial'}\n",
            "Traceback (most recent call last):\n",
            "  File \"/content/Fooocus/backend.py\", line 88, in <module>\n",
            "    out_files = generate_image(params)\n",
            "                ^^^^^^^^^^^^^^^^^^^^^^\n",
            "  File \"/content/Fooocus/backend.py\", line 46, in generate_image\n",
            "    init_cache(\n",
            "  File \"/content/Fooocus/modules/hash_cache.py\", line 64, in init_cache\n",
            "    if args_manager.args.rebuild_hash_cache:\n",
            "       ^^^^^^^^^^^^^^^^^^^^^^^^^^^^^^^^^^^^\n",
            "AttributeError: 'Namespace' object has no attribute 'rebuild_hash_cache'\n"
          ]
        }
      ]
    }
  ],
  "metadata": {
    "accelerator": "GPU",
    "colab": {
      "gpuType": "T4",
      "provenance": []
    },
    "kernelspec": {
      "display_name": "Python 3",
      "name": "python3"
    },
    "language_info": {
      "name": "python"
    }
  },
  "nbformat": 4,
  "nbformat_minor": 0
}