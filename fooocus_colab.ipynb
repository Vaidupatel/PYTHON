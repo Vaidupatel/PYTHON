{
  "cells": [
    {
      "cell_type": "code",
      "execution_count": 1,
      "metadata": {
        "id": "VjYy0F2gZIPR",
        "colab": {
          "base_uri": "https://localhost:8080/"
        },
        "outputId": "b6907bf0-b191-40b3-98f3-b6d8b6a4a8ce"
      },
      "outputs": [
        {
          "output_type": "stream",
          "name": "stdout",
          "text": [
            "Collecting pygit2==1.15.1\n",
            "  Downloading pygit2-1.15.1-cp311-cp311-manylinux_2_17_x86_64.manylinux2014_x86_64.whl.metadata (3.3 kB)\n",
            "Requirement already satisfied: cffi>=1.16.0 in /usr/local/lib/python3.11/dist-packages (from pygit2==1.15.1) (1.17.1)\n",
            "Requirement already satisfied: pycparser in /usr/local/lib/python3.11/dist-packages (from cffi>=1.16.0->pygit2==1.15.1) (2.22)\n",
            "Downloading pygit2-1.15.1-cp311-cp311-manylinux_2_17_x86_64.manylinux2014_x86_64.whl (5.1 MB)\n",
            "\u001b[2K   \u001b[90m━━━━━━━━━━━━━━━━━━━━━━━━━━━━━━━━━━━━━━━━\u001b[0m \u001b[32m5.1/5.1 MB\u001b[0m \u001b[31m65.0 MB/s\u001b[0m eta \u001b[36m0:00:00\u001b[0m\n",
            "\u001b[?25hInstalling collected packages: pygit2\n",
            "  Attempting uninstall: pygit2\n",
            "    Found existing installation: pygit2 1.18.0\n",
            "    Uninstalling pygit2-1.18.0:\n",
            "      Successfully uninstalled pygit2-1.18.0\n",
            "Successfully installed pygit2-1.15.1\n",
            "/content\n",
            "Cloning into 'Fooocus'...\n",
            "remote: Enumerating objects: 6725, done.\u001b[K\n",
            "remote: Total 6725 (delta 0), reused 0 (delta 0), pack-reused 6725 (from 1)\u001b[K\n",
            "Receiving objects: 100% (6725/6725), 33.33 MiB | 10.81 MiB/s, done.\n",
            "Resolving deltas: 100% (3856/3856), done.\n",
            "/content/Fooocus\n"
          ]
        }
      ],
      "source": [
        "!pip install pygit2==1.15.1\n",
        "%cd /content\n",
        "!git clone https://github.com/lllyasviel/Fooocus.git\n",
        "%cd /content/Fooocus\n"
      ]
    },
    {
      "cell_type": "code",
      "source": [
        "!rm -rf webui.py css javascript language modules/ui_gradio_extensions.py modules/html.py modules/gradio_hijack.py\n"
      ],
      "metadata": {
        "id": "ndIzZLM9q2aX"
      },
      "execution_count": 2,
      "outputs": []
    },
    {
      "cell_type": "code",
      "source": [
        "!python backend.py \\\n",
        "  --prompt \"a serene landscape with mountains\" \\\n",
        "  --negative_prompt \"lowres\" \\\n",
        "  --seed 42 \\\n",
        "  --base_model sd-v1.5.ckpt \\\n",
        "  --steps 30 \\\n",
        "  --cfg_scale 7.5 \\\n",
        "  --width 512 \\\n",
        "  --height 512 \\\n",
        "  --n_images 2"
      ],
      "metadata": {
        "colab": {
          "base_uri": "https://localhost:8080/"
        },
        "id": "Xq0RywtYrtOk",
        "outputId": "cac8af05-07fd-4942-d606-9c841f9646b4"
      },
      "execution_count": 12,
      "outputs": [
        {
          "output_type": "stream",
          "name": "stdout",
          "text": [
            "Traceback (most recent call last):\n",
            "  File \"/content/Fooocus/backend.py\", line 38, in <module>\n",
            "    from modules import config\n",
            "  File \"/content/Fooocus/modules/config.py\", line 131, in <module>\n",
            "    preset = args_manager.args.preset\n",
            "             ^^^^^^^^^^^^^^^^^^^^^^^^\n",
            "AttributeError: 'Namespace' object has no attribute 'preset'\n"
          ]
        }
      ]
    }
  ],
  "metadata": {
    "accelerator": "GPU",
    "colab": {
      "gpuType": "T4",
      "provenance": []
    },
    "kernelspec": {
      "display_name": "Python 3",
      "name": "python3"
    },
    "language_info": {
      "name": "python"
    }
  },
  "nbformat": 4,
  "nbformat_minor": 0
}