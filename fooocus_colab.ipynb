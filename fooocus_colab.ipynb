{
  "cells": [
    {
      "cell_type": "code",
      "execution_count": 1,
      "metadata": {
        "id": "VjYy0F2gZIPR",
        "colab": {
          "base_uri": "https://localhost:8080/"
        },
        "outputId": "b6907bf0-b191-40b3-98f3-b6d8b6a4a8ce"
      },
      "outputs": [
        {
          "output_type": "stream",
          "name": "stdout",
          "text": [
            "Collecting pygit2==1.15.1\n",
            "  Downloading pygit2-1.15.1-cp311-cp311-manylinux_2_17_x86_64.manylinux2014_x86_64.whl.metadata (3.3 kB)\n",
            "Requirement already satisfied: cffi>=1.16.0 in /usr/local/lib/python3.11/dist-packages (from pygit2==1.15.1) (1.17.1)\n",
            "Requirement already satisfied: pycparser in /usr/local/lib/python3.11/dist-packages (from cffi>=1.16.0->pygit2==1.15.1) (2.22)\n",
            "Downloading pygit2-1.15.1-cp311-cp311-manylinux_2_17_x86_64.manylinux2014_x86_64.whl (5.1 MB)\n",
            "\u001b[2K   \u001b[90m━━━━━━━━━━━━━━━━━━━━━━━━━━━━━━━━━━━━━━━━\u001b[0m \u001b[32m5.1/5.1 MB\u001b[0m \u001b[31m65.0 MB/s\u001b[0m eta \u001b[36m0:00:00\u001b[0m\n",
            "\u001b[?25hInstalling collected packages: pygit2\n",
            "  Attempting uninstall: pygit2\n",
            "    Found existing installation: pygit2 1.18.0\n",
            "    Uninstalling pygit2-1.18.0:\n",
            "      Successfully uninstalled pygit2-1.18.0\n",
            "Successfully installed pygit2-1.15.1\n",
            "/content\n",
            "Cloning into 'Fooocus'...\n",
            "remote: Enumerating objects: 6725, done.\u001b[K\n",
            "remote: Total 6725 (delta 0), reused 0 (delta 0), pack-reused 6725 (from 1)\u001b[K\n",
            "Receiving objects: 100% (6725/6725), 33.33 MiB | 10.81 MiB/s, done.\n",
            "Resolving deltas: 100% (3856/3856), done.\n",
            "/content/Fooocus\n"
          ]
        }
      ],
      "source": [
        "!pip install pygit2==1.15.1\n",
        "%cd /content\n",
        "!git clone https://github.com/lllyasviel/Fooocus.git\n",
        "%cd /content/Fooocus\n"
      ]
    },
    {
      "cell_type": "code",
      "source": [
        "!rm -rf webui.py css javascript language modules/ui_gradio_extensions.py modules/html.py modules/gradio_hijack.py\n"
      ],
      "metadata": {
        "id": "ndIzZLM9q2aX"
      },
      "execution_count": 2,
      "outputs": []
    },
    {
      "cell_type": "code",
      "source": [
        "!python backend.py \\\n",
        "  --prompt \"a serene landscape with mountains\" \\\n",
        "  --negative_prompt \"lowres\" \\\n",
        "  --seed 42 \\\n",
        "  --base_model sd-v1.5.ckpt \\\n",
        "  --steps 30 \\\n",
        "  --cfg_scale 7.5 \\\n",
        "  --width 512 \\\n",
        "  --height 512 \\\n",
        "  --n_images 2"
      ],
      "metadata": {
        "colab": {
          "base_uri": "https://localhost:8080/"
        },
        "id": "Xq0RywtYrtOk",
        "outputId": "6564ffcd-f483-41fa-d182-7ff7292e946e"
      },
      "execution_count": 9,
      "outputs": [
        {
          "output_type": "stream",
          "name": "stdout",
          "text": [
            "usage: backend.py [-h] [--listen [IP]] [--port PORT]\n",
            "                  [--disable-header-check [ORIGIN]]\n",
            "                  [--web-upload-size WEB_UPLOAD_SIZE] [--hf-mirror HF_MIRROR]\n",
            "                  [--external-working-path PATH [PATH ...]]\n",
            "                  [--output-path OUTPUT_PATH] [--temp-path TEMP_PATH]\n",
            "                  [--cache-path CACHE_PATH] [--in-browser]\n",
            "                  [--disable-in-browser] [--gpu-device-id DEVICE_ID]\n",
            "                  [--async-cuda-allocation | --disable-async-cuda-allocation]\n",
            "                  [--disable-attention-upcast] [--all-in-fp32 | --all-in-fp16]\n",
            "                  [--unet-in-bf16 | --unet-in-fp16 | --unet-in-fp8-e4m3fn | --unet-in-fp8-e5m2]\n",
            "                  [--vae-in-fp16 | --vae-in-fp32 | --vae-in-bf16]\n",
            "                  [--vae-in-cpu]\n",
            "                  [--clip-in-fp8-e4m3fn | --clip-in-fp8-e5m2 | --clip-in-fp16 | --clip-in-fp32]\n",
            "                  [--directml [DIRECTML_DEVICE]] [--disable-ipex-hijack]\n",
            "                  [--preview-option [none,auto,fast,taesd]]\n",
            "                  [--attention-split | --attention-quad | --attention-pytorch]\n",
            "                  [--disable-xformers]\n",
            "                  [--always-gpu | --always-high-vram | --always-normal-vram | --always-low-vram | --always-no-vram | --always-cpu [CPU_NUM_THREADS]]\n",
            "                  [--always-offload-from-vram] [--pytorch-deterministic]\n",
            "                  [--disable-server-log] [--debug-mode]\n",
            "                  [--is-windows-embedded-python] [--disable-server-info]\n",
            "                  [--multi-user] [--share] [--preset PRESET]\n",
            "                  [--disable-preset-selection] [--language LANGUAGE]\n",
            "                  [--disable-offload-from-vram] [--theme THEME]\n",
            "                  [--disable-image-log] [--disable-analytics]\n",
            "                  [--disable-metadata] [--disable-preset-download]\n",
            "                  [--disable-enhance-output-sorting]\n",
            "                  [--enable-auto-describe-image] [--always-download-new-model]\n",
            "                  [--rebuild-hash-cache [CPU_NUM_THREADS]]\n",
            "backend.py: error: unrecognized arguments: --prompt a serene landscape with mountains --negative_prompt lowres --seed 42 --base_model sd-v1.5.ckpt --steps 30 --cfg_scale 7.5 --width 512 --height 512 --n_images 2\n"
          ]
        }
      ]
    }
  ],
  "metadata": {
    "accelerator": "GPU",
    "colab": {
      "gpuType": "T4",
      "provenance": []
    },
    "kernelspec": {
      "display_name": "Python 3",
      "name": "python3"
    },
    "language_info": {
      "name": "python"
    }
  },
  "nbformat": 4,
  "nbformat_minor": 0
}